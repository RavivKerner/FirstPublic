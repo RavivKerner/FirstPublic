{
 "cells": [
  {
   "cell_type": "markdown",
   "id": "032089e6-6f5e-4862-b50f-9ef14d5a046b",
   "metadata": {},
   "source": [
    "## demonstration"
   ]
  },
  {
   "cell_type": "markdown",
   "id": "599b9876-c848-451a-b873-3bf810d871a0",
   "metadata": {},
   "source": [
    "## sample calc "
   ]
  },
  {
   "cell_type": "code",
   "execution_count": 1,
   "id": "78991480-1aa0-4be3-89e6-cd2ae68dbbc7",
   "metadata": {},
   "outputs": [
    {
     "data": {
      "text/plain": [
       "2"
      ]
     },
     "execution_count": 1,
     "metadata": {},
     "output_type": "execute_result"
    }
   ],
   "source": [
    "1+1"
   ]
  }
 ],
 "metadata": {
  "kernelspec": {
   "display_name": "Python 3 (ipykernel)",
   "language": "python",
   "name": "python3"
  },
  "language_info": {
   "codemirror_mode": {
    "name": "ipython",
    "version": 3
   },
   "file_extension": ".py",
   "mimetype": "text/x-python",
   "name": "python",
   "nbconvert_exporter": "python",
   "pygments_lexer": "ipython3",
   "version": "3.9.13"
  }
 },
 "nbformat": 4,
 "nbformat_minor": 5
}
